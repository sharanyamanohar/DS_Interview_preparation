{
 "cells": [
  {
   "cell_type": "markdown",
   "id": "28fdfbae",
   "metadata": {},
   "source": [
    "1. Create two custom layers in TensorFlow that add two inputs and multiply two inputs\n",
    "respectively [or any other mathematical operations of your choice(linear or\n",
    "nonlinear)] Add layer names and other things that are present in other common\n",
    "layers in TensorFlow. (5pts)"
   ]
  },
  {
   "cell_type": "markdown",
   "id": "cd096074",
   "metadata": {},
   "source": [
    "We are creating our own custom layers rather than existing Dense layer,but no trainable parameter created"
   ]
  },
  {
   "cell_type": "code",
   "execution_count": 1,
   "id": "de994286",
   "metadata": {},
   "outputs": [
    {
     "name": "stdout",
     "output_type": "stream",
     "text": [
      "Model: \"model\"\n",
      "__________________________________________________________________________________________________\n",
      " Layer (type)                   Output Shape         Param #     Connected to                     \n",
      "==================================================================================================\n",
      " input1 (InputLayer)            [(None, 10)]         0           []                               \n",
      "                                                                                                  \n",
      " input2 (InputLayer)            [(None, 10)]         0           []                               \n",
      "                                                                                                  \n",
      " addition_layer (AddLayer)      (2, None, 1)         0           ['input1[0][0]',                 \n",
      "                                                                  'input2[0][0]']                 \n",
      "                                                                                                  \n",
      " multiplication_layer (Multiply  (2, None, 1)        0           ['input1[0][0]',                 \n",
      " Layer)                                                           'input2[0][0]']                 \n",
      "                                                                                                  \n",
      "==================================================================================================\n",
      "Total params: 0\n",
      "Trainable params: 0\n",
      "Non-trainable params: 0\n",
      "__________________________________________________________________________________________________\n"
     ]
    }
   ],
   "source": [
    "import tensorflow as tf\n",
    "\n",
    "# Custom layer for addition\n",
    "class AddLayer(tf.keras.layers.Layer):\n",
    "    def __init__(self, **kwargs):\n",
    "        super(AddLayer, self).__init__(**kwargs)\n",
    "\n",
    "    def build(self, input_shape):\n",
    "        # No trainable parameters needed for addition\n",
    "        super(AddLayer, self).build(input_shape)\n",
    "\n",
    "    def call(self, inputs):\n",
    "        # Custom forward pass: Element-wise addition\n",
    "        return tf.reduce_sum(inputs, axis=-1, keepdims=True)\n",
    "\n",
    "# Custom layer for multiplication\n",
    "class MultiplyLayer(tf.keras.layers.Layer):\n",
    "    def __init__(self, **kwargs):\n",
    "        super(MultiplyLayer, self).__init__(**kwargs)\n",
    "\n",
    "    def build(self, input_shape):\n",
    "        # No trainable parameters needed for multiplication\n",
    "        super(MultiplyLayer, self).build(input_shape)\n",
    "\n",
    "    def call(self, inputs):\n",
    "        # Custom forward pass: Element-wise multiplication\n",
    "        return tf.reduce_prod(inputs, axis=-1, keepdims=True)\n",
    "\n",
    "# Example usage\n",
    "input1 = tf.keras.layers.Input(shape=(10,), name='input1')\n",
    "input2 = tf.keras.layers.Input(shape=(10,), name='input2')\n",
    "\n",
    "# Adding custom layers\n",
    "addition_result = AddLayer(name='addition_layer')([input1, input2])\n",
    "multiplication_result = MultiplyLayer(name='multiplication_layer')([input1, input2])\n",
    "\n",
    "# Creating a model\n",
    "model = tf.keras.Model(inputs=[input1, input2], outputs=[addition_result, multiplication_result])\n",
    "\n",
    "# Displaying the model summary\n",
    "model.summary()\n"
   ]
  },
  {
   "cell_type": "markdown",
   "id": "5e7c115d",
   "metadata": {},
   "source": [
    "2.Combine these two layers in a third custom layer. Concatenate them or multiply\n",
    "them etc. (5pts)"
   ]
  },
  {
   "cell_type": "markdown",
   "id": "433bc6cd",
   "metadata": {},
   "source": [
    "Combine layers is just the combination of 2 layers that we performed just before in which wew are adding our own custom layer without training.We are concatenating Add_layer and multiply_layer along a new axis"
   ]
  },
  {
   "cell_type": "code",
   "execution_count": 5,
   "id": "da44810f",
   "metadata": {},
   "outputs": [
    {
     "name": "stdout",
     "output_type": "stream",
     "text": [
      "Model: \"model_1\"\n",
      "__________________________________________________________________________________________________\n",
      " Layer (type)                   Output Shape         Param #     Connected to                     \n",
      "==================================================================================================\n",
      " input1 (InputLayer)            [(None, 10)]         0           []                               \n",
      "                                                                                                  \n",
      " input2 (InputLayer)            [(None, 10)]         0           []                               \n",
      "                                                                                                  \n",
      " combine_layer (CombineLayers)  (2, None, 2)         0           ['input1[0][0]',                 \n",
      "                                                                  'input2[0][0]']                 \n",
      "                                                                                                  \n",
      "==================================================================================================\n",
      "Total params: 0\n",
      "Trainable params: 0\n",
      "Non-trainable params: 0\n",
      "__________________________________________________________________________________________________\n"
     ]
    }
   ],
   "source": [
    "import tensorflow as tf\n",
    "\n",
    "class CombineLayers(tf.keras.layers.Layer):\n",
    "    def __init__(self, **kwargs):\n",
    "        super(CombineLayers, self).__init__(**kwargs)\n",
    "        self.add_layer = AddLayer()\n",
    "        self.multiply_layer = MultiplyLayer()\n",
    "\n",
    "    def build(self, input_shape):\n",
    "        # Build the sub-layers\n",
    "        self.add_layer.build(input_shape)\n",
    "        self.multiply_layer.build(input_shape)\n",
    "        super(CombineLayers, self).build(input_shape)\n",
    "\n",
    "    def call(self, inputs):\n",
    "        # Custom forward pass: Concatenate the outputs of AddLayer and MultiplyLayer\n",
    "        addition_result = self.add_layer(inputs)\n",
    "        multiplication_result = self.multiply_layer(inputs)\n",
    "        combined_result = tf.concat([addition_result, multiplication_result], axis=-1)\n",
    "        return combined_result\n",
    "\n",
    "# Example usage\n",
    "input1 = tf.keras.layers.Input(shape=(10,), name='input1')\n",
    "input2 = tf.keras.layers.Input(shape=(10,), name='input2')\n",
    "\n",
    "# Adding the custom layer that combines the outputs\n",
    "combine_layer = CombineLayers(name='combine_layer')([input1, input2])\n",
    "\n",
    "# Creating a model\n",
    "model = tf.keras.Model(inputs=[input1, input2], outputs=combine_layer)\n",
    "\n",
    "# Displaying the model summary\n",
    "model.summary()\n"
   ]
  },
  {
   "cell_type": "markdown",
   "id": "8e6b25c8",
   "metadata": {},
   "source": [
    "3. Create a model using these and observe how batch inference works (10 pts)"
   ]
  },
  {
   "cell_type": "code",
   "execution_count": null,
   "id": "32c0d922",
   "metadata": {},
   "outputs": [],
   "source": [
    "Lets build by using Add layer, Multiply layer, Combine layer  inwhich the custom layer that we have created so based on it we are creating amodel"
   ]
  },
  {
   "cell_type": "code",
   "execution_count": 6,
   "id": "7895242b",
   "metadata": {},
   "outputs": [
    {
     "name": "stdout",
     "output_type": "stream",
     "text": [
      "1/1 [==============================] - 1s 661ms/step\n",
      "Output Shapes:\n",
      "Output 1: (2, 5, 1)\n",
      "Output 2: (2, 5, 1)\n",
      "Output 3: (2, 5, 2)\n",
      "Model: \"model_2\"\n",
      "__________________________________________________________________________________________________\n",
      " Layer (type)                   Output Shape         Param #     Connected to                     \n",
      "==================================================================================================\n",
      " input1 (InputLayer)            [(None, 10)]         0           []                               \n",
      "                                                                                                  \n",
      " input2 (InputLayer)            [(None, 10)]         0           []                               \n",
      "                                                                                                  \n",
      " addition_layer (AddLayer)      (2, None, 1)         0           ['input1[0][0]',                 \n",
      "                                                                  'input2[0][0]']                 \n",
      "                                                                                                  \n",
      " multiplication_layer (Multiply  (2, None, 1)        0           ['input1[0][0]',                 \n",
      " Layer)                                                           'input2[0][0]']                 \n",
      "                                                                                                  \n",
      " combine_layer (CombineLayers)  (2, None, 2)         0           ['input1[0][0]',                 \n",
      "                                                                  'input2[0][0]']                 \n",
      "                                                                                                  \n",
      "==================================================================================================\n",
      "Total params: 0\n",
      "Trainable params: 0\n",
      "Non-trainable params: 0\n",
      "__________________________________________________________________________________________________\n"
     ]
    }
   ],
   "source": [
    "import tensorflow as tf\n",
    "import numpy as np\n",
    "\n",
    "# Define the custom layers (AddLayer, MultiplyLayer, CombineLayers)\n",
    "class AddLayer(tf.keras.layers.Layer):\n",
    "    def __init__(self, **kwargs):\n",
    "        super(AddLayer, self).__init__(**kwargs)\n",
    "\n",
    "    def build(self, input_shape):\n",
    "        super(AddLayer, self).build(input_shape)\n",
    "\n",
    "    def call(self, inputs):\n",
    "        return tf.reduce_sum(inputs, axis=-1, keepdims=True)\n",
    "\n",
    "class MultiplyLayer(tf.keras.layers.Layer):\n",
    "    def __init__(self, **kwargs):\n",
    "        super(MultiplyLayer, self).__init__(**kwargs)\n",
    "\n",
    "    def build(self, input_shape):\n",
    "        super(MultiplyLayer, self).build(input_shape)\n",
    "\n",
    "    def call(self, inputs):\n",
    "        return tf.reduce_prod(inputs, axis=-1, keepdims=True)\n",
    "\n",
    "class CombineLayers(tf.keras.layers.Layer):\n",
    "    def __init__(self, **kwargs):\n",
    "        super(CombineLayers, self).__init__(**kwargs)\n",
    "        self.add_layer = AddLayer()\n",
    "        self.multiply_layer = MultiplyLayer()\n",
    "\n",
    "    def build(self, input_shape):\n",
    "        self.add_layer.build(input_shape)\n",
    "        self.multiply_layer.build(input_shape)\n",
    "        super(CombineLayers, self).build(input_shape)\n",
    "\n",
    "    def call(self, inputs):\n",
    "        addition_result = self.add_layer(inputs)\n",
    "        multiplication_result = self.multiply_layer(inputs)\n",
    "        combined_result = tf.concat([addition_result, multiplication_result], axis=-1)\n",
    "        return combined_result\n",
    "\n",
    "# Create model\n",
    "input_shape = (10,)\n",
    "input1 = tf.keras.layers.Input(shape=input_shape, name='input1')\n",
    "input2 = tf.keras.layers.Input(shape=input_shape, name='input2')\n",
    "\n",
    "# Adding custom layers\n",
    "addition_result = AddLayer(name='addition_layer')([input1, input2])\n",
    "multiplication_result = MultiplyLayer(name='multiplication_layer')([input1, input2])\n",
    "combined_result = CombineLayers(name='combine_layer')([input1, input2])\n",
    "\n",
    "# Creating a model\n",
    "model = tf.keras.Model(inputs=[input1, input2], outputs=[addition_result, multiplication_result, combined_result])\n",
    "\n",
    "# Generate some sample input data for batch inference\n",
    "num_samples = 5\n",
    "input_data1 = np.random.rand(num_samples, *input_shape)\n",
    "input_data2 = np.random.rand(num_samples, *input_shape)\n",
    "\n",
    "# Perform batch inference\n",
    "output = model.predict([input_data1, input_data2])\n",
    "\n",
    "# Display the output\n",
    "print(\"Output Shapes:\")\n",
    "for i, output_tensor in enumerate(output):\n",
    "    print(f\"Output {i + 1}: {output_tensor.shape}\")\n",
    "\n",
    "# Displaying the model summary\n",
    "model.summary()\n"
   ]
  },
  {
   "cell_type": "markdown",
   "id": "d4fc3e1d",
   "metadata": {},
   "source": [
    "4. Use a predefined layer in Tensorflow to split an input/image into 4x4 = 16 tiles\n",
    "(5pts)"
   ]
  },
  {
   "cell_type": "markdown",
   "id": "900566a8",
   "metadata": {},
   "source": [
    "4x4 = 16 tiles, it means dividing the image into 16 smaller, non-overlapping patches, each of size 4x4 pixels"
   ]
  },
  {
   "cell_type": "code",
   "execution_count": 10,
   "id": "720c3b21",
   "metadata": {},
   "outputs": [
    {
     "name": "stdout",
     "output_type": "stream",
     "text": [
      "Input Image Shape: (1, 224, 224, 3)\n",
      "Extracted Tiles Shape: (1, 56, 56, 48)\n"
     ]
    }
   ],
   "source": [
    "import tensorflow as tf\n",
    "\n",
    "# Define the input shape (e.g., image shape)\n",
    "input_shape = (224, 224, 3)  # Assuming a 3-channel RGB image\n",
    "\n",
    "# Create a sample input image\n",
    "input_image = tf.random.normal(shape=(1, *input_shape))  # Batch size of 1 for simplicity\n",
    "\n",
    "# Define the parameters for extracting patches\n",
    "patches_size = (1, 4, 4, 1)  # (batch_size, patch_height, patch_width, channels)\n",
    "strides = (1, 4, 4, 1)       # (batch_stride, vertical_stride, horizontal_stride, channel_stride)\n",
    "\n",
    "# Use tf.image.extract_patches to split the input into tiles\n",
    "tiles = tf.image.extract_patches(images=input_image, sizes=[1, 4, 4, 1], strides=[1, 4, 4, 1], rates=[1, 1, 1, 1], padding='VALID')\n",
    "\n",
    "# Display the shapes of the input and the extracted tiles\n",
    "print(\"Input Image Shape:\", input_image.shape)\n",
    "print(\"Extracted Tiles Shape:\", tiles.shape)\n"
   ]
  },
  {
   "cell_type": "markdown",
   "id": "3ce5d67a",
   "metadata": {},
   "source": [
    "5. Write a graph data structure in python with random connections between nodes.\n",
    "(5pts)\n",
    "Refer to the image below:"
   ]
  },
  {
   "cell_type": "code",
   "execution_count": 11,
   "id": "8badc207",
   "metadata": {},
   "outputs": [
    {
     "name": "stdout",
     "output_type": "stream",
     "text": [
      "A\n",
      "  B\n",
      "    E\n",
      "  C\n",
      "    E\n",
      "  D\n",
      "    E\n"
     ]
    }
   ],
   "source": [
    "class TreeNode:\n",
    "    def __init__(self, value):\n",
    "        self.value = value\n",
    "        self.children = []\n",
    "\n",
    "    def add_child(self, child_node):\n",
    "        self.children.append(child_node)\n",
    "\n",
    "def print_tree(node, level=0):\n",
    "    print(\"  \" * level + str(node.value))\n",
    "    for child in node.children:\n",
    "        print_tree(child, level + 1)\n",
    "\n",
    "# Creating nodes\n",
    "node_a = TreeNode(\"A\")\n",
    "node_b = TreeNode(\"B\")\n",
    "node_c = TreeNode(\"C\")\n",
    "node_d = TreeNode(\"D\")\n",
    "node_e = TreeNode(\"E\")\n",
    "\n",
    "# Connecting nodes to form a tree\n",
    "node_a.add_child(node_b)\n",
    "node_a.add_child(node_c)\n",
    "node_a.add_child(node_d)\n",
    "node_b.add_child(node_e)\n",
    "node_c.add_child(node_e)\n",
    "node_d.add_child(node_e)\n",
    "\n",
    "# Printing the tree structure\n",
    "print_tree(node_a)\n"
   ]
  },
  {
   "cell_type": "markdown",
   "id": "04490307",
   "metadata": {},
   "source": [
    "6. Two part question\n",
    "a. Do inference in one of the nodes and write any rules (>,<,==) to decide the\n",
    "next node based on the output (5 pts)."
   ]
  },
  {
   "cell_type": "code",
   "execution_count": 12,
   "id": "3059fc4b",
   "metadata": {},
   "outputs": [
    {
     "name": "stdout",
     "output_type": "stream",
     "text": [
      "Final output: 0.1559471959607137\n"
     ]
    }
   ],
   "source": [
    "import numpy as np\n",
    "\n",
    "# Define the nodes\n",
    "nodes = {\n",
    "    \"node1\": {\n",
    "        \"inputs\": [],\n",
    "        \"inference\": lambda x: np.random.uniform(0, 1),\n",
    "        \"next_node\": None,\n",
    "    },\n",
    "    \"node2\": {\n",
    "        \"inputs\": [\"node1\"],\n",
    "        \"inference\": lambda x: x[0] > 0.5,\n",
    "        \"next_node\": \"node3\",\n",
    "    },\n",
    "    \"node3\": {\n",
    "        \"inputs\": [],\n",
    "        \"inference\": lambda x: np.random.randint(1, 5),\n",
    "        \"next_node\": None,\n",
    "    },\n",
    "}\n",
    "\n",
    "# Start at the first node\n",
    "current_node = \"node1\"\n",
    "\n",
    "# Perform inference until we reach a terminal node\n",
    "while nodes[current_node][\"next_node\"] is not None:\n",
    "    # Get the output of the current node\n",
    "    output = nodes[current_node][\"inference\"]([])\n",
    "\n",
    "    # Determine the next node based on the output\n",
    "    next_node = nodes[current_node][\"next_node\"]\n",
    "    for input_node, rule in nodes[next_node][\"inputs\"]:\n",
    "        if rule == \">\":\n",
    "            if output > nodes[input_node][\"inference\"]([]):\n",
    "                current_node = next_node\n",
    "                break\n",
    "        elif rule == \"<\":\n",
    "            if output < nodes[input_node][\"inference\"]([]):\n",
    "                current_node = next_node\n",
    "                break\n",
    "        elif rule == \"==\":\n",
    "            if output == nodes[input_node][\"inference\"]([]):\n",
    "                current_node = next_node\n",
    "                break\n",
    "\n",
    "# Print the final output\n",
    "print(f\"Final output: {nodes[current_node]['inference']([])}\")"
   ]
  },
  {
   "cell_type": "code",
   "execution_count": 14,
   "id": "b7904215",
   "metadata": {},
   "outputs": [
    {
     "name": "stdout",
     "output_type": "stream",
     "text": [
      "Random Input:\n",
      "tf.Tensor([[90. 90. 90. 90. 90.]], shape=(1, 5), dtype=float32)\n",
      "\n",
      "AddLayer Result:\n",
      "tf.Tensor([[450.]], shape=(1, 1), dtype=float32)\n",
      "\n",
      "MultiplyLayer Result:\n",
      "tf.Tensor([[5.9049e+09]], shape=(1, 1), dtype=float32)\n",
      "\n",
      "CustomLayer Result:\n",
      "tf.Tensor([[8100. 8100. 8100. 8100. 8100.]], shape=(1, 5), dtype=float32)\n"
     ]
    }
   ],
   "source": [
    "import tensorflow as tf\n",
    "import random\n",
    "\n",
    "class AddLayer(tf.keras.layers.Layer):\n",
    "    def __init__(self, **kwargs):\n",
    "        super(AddLayer, self).__init__(**kwargs)\n",
    "\n",
    "    def build(self, input_shape):\n",
    "        super(AddLayer, self).build(input_shape)\n",
    "\n",
    "    def call(self, inputs):\n",
    "        return tf.reduce_sum(inputs, axis=-1, keepdims=True)\n",
    "\n",
    "class MultiplyLayer(tf.keras.layers.Layer):\n",
    "    def __init__(self, **kwargs):\n",
    "        super(MultiplyLayer, self).__init__(**kwargs)\n",
    "\n",
    "    def build(self, input_shape):\n",
    "        super(MultiplyLayer, self).build(input_shape)\n",
    "\n",
    "    def call(self, inputs):\n",
    "        return tf.reduce_prod(inputs, axis=-1, keepdims=True)\n",
    "\n",
    "class CustomLayer(tf.keras.layers.Layer):\n",
    "    def __init__(self, **kwargs):\n",
    "        super(CustomLayer, self).__init__(**kwargs)\n",
    "\n",
    "    def build(self, input_shape):\n",
    "        # You can add custom build logic if needed\n",
    "        super(CustomLayer, self).build(input_shape)\n",
    "\n",
    "    def call(self, inputs):\n",
    "        # Example custom logic: Square each element of the input\n",
    "        return tf.square(inputs)\n",
    "\n",
    "# Generate random input\n",
    "random_input = tf.constant(random.randint(1, 100), shape=(1, 5), dtype=tf.float32)\n",
    "\n",
    "# Test the layers with random input\n",
    "add_layer = AddLayer()\n",
    "multiply_layer = MultiplyLayer()\n",
    "custom_layer = CustomLayer()\n",
    "\n",
    "add_result = add_layer(random_input)\n",
    "multiply_result = multiply_layer(random_input)\n",
    "custom_result = custom_layer(random_input)\n",
    "\n",
    "print(\"Random Input:\")\n",
    "print(random_input)\n",
    "\n",
    "print(\"\\nAddLayer Result:\")\n",
    "print(add_result)\n",
    "\n",
    "print(\"\\nMultiplyLayer Result:\")\n",
    "print(multiply_result)\n",
    "\n",
    "print(\"\\nCustomLayer Result:\")\n",
    "print(custom_result)\n"
   ]
  }
 ],
 "metadata": {
  "kernelspec": {
   "display_name": "Python 3 (ipykernel)",
   "language": "python",
   "name": "python3"
  },
  "language_info": {
   "codemirror_mode": {
    "name": "ipython",
    "version": 3
   },
   "file_extension": ".py",
   "mimetype": "text/x-python",
   "name": "python",
   "nbconvert_exporter": "python",
   "pygments_lexer": "ipython3",
   "version": "3.9.12"
  }
 },
 "nbformat": 4,
 "nbformat_minor": 5
}
