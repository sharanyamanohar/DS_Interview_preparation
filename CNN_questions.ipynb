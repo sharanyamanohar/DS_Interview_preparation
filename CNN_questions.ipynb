{
 "cells": [
  {
   "cell_type": "markdown",
   "id": "7b42b582",
   "metadata": {},
   "source": [
    "7. Train (10pts) any two object detection models of your choice on any dataset of\n",
    "your choice, to perform:"
   ]
  },
  {
   "cell_type": "markdown",
   "id": "ecfa4d92",
   "metadata": {},
   "source": [
    "#Object detection model 1\n",
    "\n",
    "I have developed a model for a self-driving car, and I invite you to take a look at the GitHub repository for more details.\n",
    "\n",
    "Model 1: Self-Driving Car\n",
    "\n",
    "For this project, I collected data using the Udacity simulator, which includes images and corresponding steering angles. Using computer vision techniques, I processed the RGB images. The model is trained using convolutional layers, strides, padding, and filters, with a focus on optimizing the number of parameters and neurons. After training, I tested the model within the same simulator, and the results were promising.\n",
    "\n",
    "Video-https://www.linkedin.com/posts/sharanya-manohar_selfdrivingcar-computervision-machinelearning-activity-7080074649144893441-HDiq?utm_source=share&utm_medium=member_desktop\n",
    "\n",
    "Code-https://github.com/sharanyamanohar/Self_driving_car_aimodel/tree/main\n",
    "\n",
    "Model 2:Cat & Dog object classification\n",
    "\n",
    "For this project, I collected data from Kaggle, comprising around 25,000 images of various cats and dogs. I utilized sharpening scaling techniques to preprocess the data, and the images were stored in RGB scales. Subsequently, I trained a model and conducted tests, obtaining promising results in terms of validation accuracy, training accuracy, and loss."
   ]
  },
  {
   "cell_type": "markdown",
   "id": "77f5cb29",
   "metadata": {},
   "source": [
    "a. Real-time inference (5pts)"
   ]
  },
  {
   "cell_type": "markdown",
   "id": "636c271f",
   "metadata": {},
   "source": [
    "Model 1: Self Driving Car\n",
    "\n",
    "Real-time inference in self-driving cars involves rapidly processing data from various sensors, such as cameras and LiDAR, to make timely decisions for steering, acceleration, and braking. This requires low-latency sensor fusion, decision-making algorithms, and continuous adaptation to changing conditions. Safety considerations, redundancy, and integration with control systems are essential to ensure reliable and responsive autonomous navigation.\n",
    "\n",
    "Model 2:Cat & Dog object classification\n",
    "\n",
    "For cat and dog object classification, real-time inference refers to the swift processing of input images from sensors, such as cameras, to accurately and quickly classify whether the detected object is a cat or a dog. This involves employing trained machine learning models or deep neural networks that make rapid predictions in a latency-sensitive manner, contributing to the real-time responsiveness of the classification system."
   ]
  },
  {
   "cell_type": "markdown",
   "id": "93e09e2f",
   "metadata": {},
   "source": [
    "b. Explain the differences that you have noticed between the two model results.\n",
    "(5pts)"
   ]
  },
  {
   "cell_type": "markdown",
   "id": "2ca43e44",
   "metadata": {},
   "source": [
    "In both models, the accuracy and loss metrics demonstrated satisfactory performance. However, notable differences in training parameters and per-layer neurons were observed, with a higher number of neurons used in the image dog classifier compared to the self-driving car model. These distinctions in model configurations may contribute to variations in their learning capacities and predictive capabilities."
   ]
  },
  {
   "cell_type": "markdown",
   "id": "d5928a88",
   "metadata": {},
   "source": [
    "c. Track the identified object and display its tracking id. Note that the efficiency\n",
    "and speed of the chosen algorithm are also considered. Explain why this is\n",
    "the best way.(10pts)"
   ]
  },
  {
   "cell_type": "markdown",
   "id": "29b5e166",
   "metadata": {},
   "source": [
    "In the self-driving car project, I generated images containing various objects such as roads, trees, and sandy borders. The goal was to focus on road-related features, eliminating noise and distractions to enhance the model's road navigation capabilities. In contrast, for the Cat and Dog image classification project using Kaggle dataset, I downloaded labeled images specifically featuring cats and dogs. The feature extraction process involved identifying distinctive characteristics such as eyes, nose, ears, and overall appearance to facilitate accurate classification between the two animal classes."
   ]
  },
  {
   "cell_type": "markdown",
   "id": "fbdfdfa2",
   "metadata": {},
   "source": [
    "d. Run the inference on both models and combine the output using appropriate\n",
    "methods to avoid duplicates. Explain your reasoning behind this. (10pts)"
   ]
  },
  {
   "cell_type": "markdown",
   "id": "782143bd",
   "metadata": {},
   "source": [
    "Running inference on both the self-driving car and cat/dog image classification models and combining their outputs is a strategic approach aimed at harnessing the unique strengths of each model. The self-driving car model, specialized in recognizing road-related features, complements the cat/dog classifier, which excels in discerning animal characteristics. By employing ensemble learning techniques such as weighted averaging or voting, we aim to enhance the overall robustness and accuracy of decision-making. This approach addresses individual model biases, handles ambiguous cases more effectively, and leverages the diversity in data handling strategies learned by each model. Ultimately, the combination of outputs ensures a more reliable and adaptable system, capable of making well-informed decisions across a spectrum of scenarios."
   ]
  },
  {
   "cell_type": "markdown",
   "id": "4607c693",
   "metadata": {},
   "source": [
    "8. Convert an object detection model into a quantized format using any library of your\n",
    "choice (10 pts)"
   ]
  },
  {
   "cell_type": "markdown",
   "id": "17be8490",
   "metadata": {},
   "source": [
    "Quantizing an object detection model involves converting the model's parameters from floating-point precision to lower-bit precision, typically using techniques like quantization.\n"
   ]
  },
  {
   "cell_type": "code",
   "execution_count": null,
   "id": "99feb35a",
   "metadata": {},
   "outputs": [],
   "source": [
    "quantize_model = vitis_quantize.quantize_model\n",
    "q_aware_model = quantize_model(original_model)\n",
    "#So by using this function we can convert it into quantize_model"
   ]
  },
  {
   "cell_type": "code",
   "execution_count": null,
   "id": "ce7be89f",
   "metadata": {},
   "outputs": [],
   "source": []
  }
 ],
 "metadata": {
  "kernelspec": {
   "display_name": "Python 3 (ipykernel)",
   "language": "python",
   "name": "python3"
  },
  "language_info": {
   "codemirror_mode": {
    "name": "ipython",
    "version": 3
   },
   "file_extension": ".py",
   "mimetype": "text/x-python",
   "name": "python",
   "nbconvert_exporter": "python",
   "pygments_lexer": "ipython3",
   "version": "3.9.12"
  }
 },
 "nbformat": 4,
 "nbformat_minor": 5
}
